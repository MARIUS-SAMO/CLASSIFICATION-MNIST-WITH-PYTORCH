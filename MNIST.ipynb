{
 "cells": [
  {
   "cell_type": "markdown",
   "id": "ecfcd9bc-1d7b-406e-b14f-e9b6a8d080bf",
   "metadata": {},
   "source": [
    "# MNIST CLASSIFICATION WITH PYTORCH"
   ]
  },
  {
   "cell_type": "code",
   "execution_count": 1,
   "id": "24f9aadf-5c12-4227-916b-8e72048aa596",
   "metadata": {},
   "outputs": [],
   "source": [
    "import torch\n",
    "import torchvision\n",
    "import torch.nn as nn\n",
    "from torch.utils.data import dataset, DataLoader\n",
    "import torch.nn.functional as F\n",
    "import torchvision.transforms as transforms\n",
    "import numpy as np\n",
    "import matplotlib.pyplot as plt\n",
    "from torchsummary import summary"
   ]
  },
  {
   "cell_type": "markdown",
   "id": "369e7a20-c97e-4104-829d-6245c3618a1d",
   "metadata": {},
   "source": [
    "## 1-) Configurations and parameters"
   ]
  },
  {
   "cell_type": "code",
   "execution_count": 2,
   "id": "32a8ec16-c468-41c3-a3f2-33f816be8957",
   "metadata": {},
   "outputs": [],
   "source": [
    "# Device config\n",
    "#device = torch.device(\"cuda\" if torch.cuda.is_available() else \"cpu\")\n",
    "\n",
    "# hyper parameters\n",
    "input_size = 784\n",
    "hidden_size = 100\n",
    "num_classes = 10\n",
    "N_EPOCHS = 2\n",
    "batch_size = 100\n",
    "learning_rate = 0.001"
   ]
  },
  {
   "cell_type": "markdown",
   "id": "fc644b92-a29e-4a0b-8d13-4e2f5f8531a4",
   "metadata": {},
   "source": [
    "## 2-) Loading the Data"
   ]
  },
  {
   "cell_type": "code",
   "execution_count": 3,
   "id": "742b7a04-5b0a-4fe5-928b-70fbb8842dc9",
   "metadata": {},
   "outputs": [
    {
     "name": "stdout",
     "output_type": "stream",
     "text": [
      "Dataset MNIST\n",
      "    Number of datapoints: 60000\n",
      "    Root location: ./data\n",
      "    Split: Train\n",
      "    StandardTransform\n",
      "Transform: ToTensor()\n"
     ]
    }
   ],
   "source": [
    "# Import\n",
    "train_data = torchvision.datasets.MNIST(root=\"./data\", train=True, \n",
    "                                        transform=transforms.ToTensor(), download=True)\n",
    "print(train_data)\n",
    "\n",
    "test_data = torchvision.datasets.MNIST(root=\"./data\", train=False, \n",
    "                                        transform=transforms.ToTensor(), download=False)\n"
   ]
  },
  {
   "cell_type": "code",
   "execution_count": 4,
   "id": "738cf4dd-d133-4f49-b125-248b4509bae2",
   "metadata": {},
   "outputs": [],
   "source": [
    "# Creating Data Batch\n",
    "train_loader = DataLoader(dataset=train_data, batch_size=batch_size, \n",
    "                          shuffle=True)\n",
    "test_loader = DataLoader(dataset=test_data, batch_size=batch_size, \n",
    "                          shuffle=False)"
   ]
  },
  {
   "cell_type": "code",
   "execution_count": 5,
   "id": "5469b75a-543d-44a5-ae45-764dca8d3737",
   "metadata": {},
   "outputs": [
    {
     "name": "stdout",
     "output_type": "stream",
     "text": [
      "torch.Size([100, 1, 28, 28])\n",
      "torch.Size([100])\n"
     ]
    },
    {
     "data": {
      "image/png": "[encoded data removed]",
      "text/plain": [
       "<Figure size 640x480 with 9 Axes>"
      ]
     },
     "metadata": {},
     "output_type": "display_data"
    }
   ],
   "source": [
    "# Checking one example\n",
    "for batch_X, batch_y in train_loader:\n",
    "    print(batch_X.shape)\n",
    "    print(batch_y.shape)\n",
    "    \n",
    "    for i in range(1,10):\n",
    "        plt.subplot(3,3,i)\n",
    "        plt.imshow(batch_X[i][0], cmap=\"gray\")\n",
    "        plt.title(f\"{batch_y[i]}\")\n",
    "    break\n",
    "\n"
   ]
  },
  {
   "cell_type": "markdown",
   "id": "36dbfd96-6285-48e1-8f16-8030f669bbc4",
   "metadata": {},
   "source": [
    "## 3-) Model"
   ]
  },
  {
   "cell_type": "code",
   "execution_count": 6,
   "id": "16f6cdc6-9fa0-4c5a-b8f6-64eca2ecec43",
   "metadata": {},
   "outputs": [],
   "source": [
    "# Creating a class \n",
    "class FeedFordwardNet(nn.Module):\n",
    "    def __init__(self, input_size, hidden_size, ouput_size):\n",
    "        super(FeedFordwardNet, self).__init__()\n",
    "        self.linear1 = nn.Linear(input_size, hidden_size)\n",
    "        self.relu = nn.ReLU()\n",
    "        self.linear2 = nn.Linear(hidden_size, ouput_size)\n",
    "        \n",
    "    def forward(self, x):\n",
    "        output = self.linear1(x)\n",
    "        output = self.relu(output)\n",
    "        output = self.linear2(output)\n",
    "        return output\n",
    "    \n",
    "def acc_score(y_pred, y):\n",
    "    l = y_pred == y   \n",
    "    return l.sum() / len(l)\n",
    "\n",
    "def convert_to_class(y):\n",
    "    m = nn.Softmax(dim=1)\n",
    "    return torch.argmax(m(y), dim=1)"
   ]
  },
  {
   "cell_type": "code",
   "execution_count": 7,
   "id": "4915fa78-836f-4088-bc0d-6da156a67a7e",
   "metadata": {},
   "outputs": [],
   "source": [
    "# Model\n",
    "model = FeedFordwardNet(input_size=input_size, hidden_size=hidden_size, \n",
    "                        ouput_size=num_classes)\n",
    "#summary(model, input_size=(1, 28, 28))\n",
    "# Loss and Optimizer\n",
    "criterion = torch.nn.CrossEntropyLoss()\n",
    "optimizer = torch.optim.Adam(model.parameters(), lr=learning_rate)\n"
   ]
  },
  {
   "cell_type": "markdown",
   "id": "ea418c70-1cb6-4861-bee0-8cbeb299c17b",
   "metadata": {},
   "source": [
    "## 4-) Learning step"
   ]
  },
  {
   "cell_type": "code",
   "execution_count": 8,
   "id": "24e6637d-8414-4cc9-b36b-0c26c1c262fa",
   "metadata": {},
   "outputs": [
    {
     "name": "stdout",
     "output_type": "stream",
     "text": [
      "epoch 1/2, step 199/600 , acc_train = 0.910, loss = 0.332\n",
      "epoch 1/2, step 299/600 , acc_train = 0.920, loss = 0.353\n",
      "epoch 1/2, step 399/600 , acc_train = 0.890, loss = 0.429\n",
      "epoch 1/2, step 499/600 , acc_train = 0.950, loss = 0.242\n",
      "epoch 1/2, step 599/600 , acc_train = 0.940, loss = 0.216\n",
      "epoch 1/2, step 699/600 , acc_train = 0.930, loss = 0.157\n",
      "epoch 2/2, step 199/600 , acc_train = 0.980, loss = 0.128\n",
      "epoch 2/2, step 299/600 , acc_train = 0.940, loss = 0.269\n",
      "epoch 2/2, step 399/600 , acc_train = 0.960, loss = 0.142\n",
      "epoch 2/2, step 499/600 , acc_train = 0.960, loss = 0.147\n",
      "epoch 2/2, step 599/600 , acc_train = 0.980, loss = 0.105\n",
      "epoch 2/2, step 699/600 , acc_train = 0.970, loss = 0.116\n"
     ]
    }
   ],
   "source": [
    "# Training Loop\n",
    "N_batches = len(train_loader)\n",
    "\n",
    "for epoch in range(N_EPOCHS):\n",
    "    \n",
    "    for i, (images, labels) in enumerate (train_loader):\n",
    "        # Reshaping and set to the device( Gpu or cpu)\n",
    "        images = images.reshape(-1, 28*28)\n",
    "        labels = labels\n",
    "        \n",
    "        # Forward & loss\n",
    "        y_hat = model(images)\n",
    "        loss = criterion(y_hat, labels)\n",
    "        \n",
    "        # Backward & update\n",
    "        optimizer.zero_grad()\n",
    "        loss.backward(retain_graph = True)\n",
    "        optimizer.step()\n",
    "        \n",
    "        \n",
    "        if (i+1) % 100 == 0 :\n",
    "            with torch.no_grad():\n",
    "                acc_train = acc_score(convert_to_class(y_hat) , labels)\n",
    "            \n",
    "            print(f\"epoch {epoch+1}/{N_EPOCHS}, step {i+100}/{N_batches} , acc_train = {acc_train.item():.3f}, loss = {loss.item():.3f}\")\n",
    "        \n",
    "        \n",
    "        \n",
    "        "
   ]
  },
  {
   "cell_type": "code",
   "execution_count": 9,
   "id": "cca2381d-3b06-4e66-b7f3-fc038c709dea",
   "metadata": {},
   "outputs": [
    {
     "name": "stdout",
     "output_type": "stream",
     "text": [
      "The accuracy on the test is :  0.955\n"
     ]
    }
   ],
   "source": [
    "# Test\n",
    "acc_test = 0.\n",
    "with torch.no_grad():\n",
    "    \n",
    "    for images, labels in test_loader:\n",
    "        images = images.reshape(-1, 28*28)\n",
    "        labels = labels\n",
    "        \n",
    "        acc_test += acc_score(convert_to_class(model(images)), labels)\n",
    "    acc_test /= len(test_loader)\n",
    "        \n",
    "print(f\"The accuracy on the test is : {acc_test.item() : .3f}\")     "
   ]
  },
  {
   "cell_type": "code",
   "execution_count": null,
   "id": "6f4415c3-5a23-4bc1-96f8-fea9d0e85144",
   "metadata": {},
   "outputs": [],
   "source": []
  }
 ],
 "metadata": {
  "kernelspec": {
   "display_name": "Python 3 (ipykernel)",
   "language": "python",
   "name": "python3"
  },
  "language_info": {
   "codemirror_mode": {
    "name": "ipython",
    "version": 3
   },
   "file_extension": ".py",
   "mimetype": "text/x-python",
   "name": "python",
   "nbconvert_exporter": "python",
   "pygments_lexer": "ipython3",
   "version": "3.9.13"
  }
 },
 "nbformat": 4,
 "nbformat_minor": 5
}
